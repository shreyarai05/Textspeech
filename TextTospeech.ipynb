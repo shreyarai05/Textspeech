{
  "nbformat": 4,
  "nbformat_minor": 0,
  "metadata": {
    "colab": {
      "name": "TextTospeech.ipynb",
      "provenance": [],
      "collapsed_sections": [],
      "authorship_tag": "ABX9TyPU08anWfnoFp4rTqK/G9a4",
      "include_colab_link": true
    },
    "kernelspec": {
      "name": "python3",
      "display_name": "Python 3"
    },
    "language_info": {
      "name": "python"
    }
  },
  "cells": [
    {
      "cell_type": "markdown",
      "metadata": {
        "id": "view-in-github",
        "colab_type": "text"
      },
      "source": [
        "<a href=\"https://colab.research.google.com/github/shreyarai05/Textspeech/blob/main/TextTospeech.ipynb\" target=\"_parent\"><img src=\"https://colab.research.google.com/assets/colab-badge.svg\" alt=\"Open In Colab\"/></a>"
      ]
    },
    {
      "cell_type": "code",
      "metadata": {
        "id": "Y1S9l059yIT8"
      },
      "source": [
        "!pip install ibm-watson"
      ],
      "execution_count": null,
      "outputs": []
    },
    {
      "cell_type": "code",
      "metadata": {
        "id": "VvtvIy3fyVHh"
      },
      "source": [
        "from ibm_watson import TextToSpeechV1"
      ],
      "execution_count": 2,
      "outputs": []
    },
    {
      "cell_type": "code",
      "metadata": {
        "id": "SVgu4vm6yqaK"
      },
      "source": [
        "from ibm_cloud_sdk_core.authenticators import IAMAuthenticator"
      ],
      "execution_count": 10,
      "outputs": []
    },
    {
      "cell_type": "code",
      "metadata": {
        "id": "Fcn1n3wQzoiX"
      },
      "source": [
        "apikey = 'OY1n0ivdv2JIp2yc2ny1ZU9AtSvtgWp7Tdqdq-h7HkvW'"
      ],
      "execution_count": 27,
      "outputs": []
    },
    {
      "cell_type": "code",
      "metadata": {
        "id": "lEfbuRoG4Y3S"
      },
      "source": [
        "url=\"https://api.kr-seo.text-to-speech.watson.cloud.ibm.com/instances/8c58065c-9c67-4ac7-8c83-494759a116bf\""
      ],
      "execution_count": 28,
      "outputs": []
    },
    {
      "cell_type": "code",
      "metadata": {
        "id": "eaUb_pYEzMbl"
      },
      "source": [
        "authenticator = IAMAuthenticator(apikey)\n",
        "tts = TextToSpeechV1(authenticator = authenticator)\n",
        "tts.set_service_url(url)"
      ],
      "execution_count": 31,
      "outputs": []
    },
    {
      "cell_type": "code",
      "metadata": {
        "id": "VlSnc01t4k1r"
      },
      "source": [
        "with open('./speech.mp3','wb') as audio_file:\n",
        "  res= tts.synthesize('hello shreya . you is good  dear. u know i am thinking about you how are u glad to know that u r amazing and superb',accept='audio/mp3',voice='en-AU_MadisonVoice').get_result()\n",
        "  audio_file.write(res.content)\n"
      ],
      "execution_count": 41,
      "outputs": []
    },
    {
      "cell_type": "code",
      "metadata": {
        "id": "SNSST9tI5mei"
      },
      "source": [
        ""
      ],
      "execution_count": null,
      "outputs": []
    }
  ]
}
