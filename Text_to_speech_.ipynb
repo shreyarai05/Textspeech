{
  "nbformat": 4,
  "nbformat_minor": 0,
  "metadata": {
    "colab": {
      "name": "Text to speech .ipynb",
      "provenance": [],
      "authorship_tag": "ABX9TyMBxAQ1WfNVMX/eK50ScF6O",
      "include_colab_link": true
    },
    "kernelspec": {
      "name": "python3",
      "display_name": "Python 3"
    },
    "language_info": {
      "name": "python"
    }
  },
  "cells": [
    {
      "cell_type": "markdown",
      "metadata": {
        "id": "view-in-github",
        "colab_type": "text"
      },
      "source": [
        "<a href=\"https://colab.research.google.com/github/shreyarai05/Textspeech/blob/main/Text_to_speech_.ipynb\" target=\"_parent\"><img src=\"https://colab.research.google.com/assets/colab-badge.svg\" alt=\"Open In Colab\"/></a>"
      ]
    },
    {
      "cell_type": "code",
      "metadata": {
        "colab": {
          "base_uri": "https://localhost:8080/"
        },
        "id": "ttVTykZFN523",
        "outputId": "4f3248df-7e9a-4d2f-9fa6-e46a2e9d349c"
      },
      "source": [
        "!pip install ibm-watson"
      ],
      "execution_count": 1,
      "outputs": [
        {
          "output_type": "stream",
          "name": "stdout",
          "text": [
            "Collecting ibm-watson\n",
            "  Downloading ibm-watson-5.3.0.tar.gz (412 kB)\n",
            "\u001b[?25l\r\u001b[K     |▉                               | 10 kB 26.4 MB/s eta 0:00:01\r\u001b[K     |█▋                              | 20 kB 26.4 MB/s eta 0:00:01\r\u001b[K     |██▍                             | 30 kB 12.3 MB/s eta 0:00:01\r\u001b[K     |███▏                            | 40 kB 9.4 MB/s eta 0:00:01\r\u001b[K     |████                            | 51 kB 5.0 MB/s eta 0:00:01\r\u001b[K     |████▊                           | 61 kB 5.3 MB/s eta 0:00:01\r\u001b[K     |█████▋                          | 71 kB 5.8 MB/s eta 0:00:01\r\u001b[K     |██████▍                         | 81 kB 6.5 MB/s eta 0:00:01\r\u001b[K     |███████▏                        | 92 kB 4.6 MB/s eta 0:00:01\r\u001b[K     |████████                        | 102 kB 5.1 MB/s eta 0:00:01\r\u001b[K     |████████▊                       | 112 kB 5.1 MB/s eta 0:00:01\r\u001b[K     |█████████▌                      | 122 kB 5.1 MB/s eta 0:00:01\r\u001b[K     |██████████▎                     | 133 kB 5.1 MB/s eta 0:00:01\r\u001b[K     |███████████▏                    | 143 kB 5.1 MB/s eta 0:00:01\r\u001b[K     |████████████                    | 153 kB 5.1 MB/s eta 0:00:01\r\u001b[K     |████████████▊                   | 163 kB 5.1 MB/s eta 0:00:01\r\u001b[K     |█████████████▌                  | 174 kB 5.1 MB/s eta 0:00:01\r\u001b[K     |██████████████▎                 | 184 kB 5.1 MB/s eta 0:00:01\r\u001b[K     |███████████████                 | 194 kB 5.1 MB/s eta 0:00:01\r\u001b[K     |████████████████                | 204 kB 5.1 MB/s eta 0:00:01\r\u001b[K     |████████████████▊               | 215 kB 5.1 MB/s eta 0:00:01\r\u001b[K     |█████████████████▌              | 225 kB 5.1 MB/s eta 0:00:01\r\u001b[K     |██████████████████▎             | 235 kB 5.1 MB/s eta 0:00:01\r\u001b[K     |███████████████████             | 245 kB 5.1 MB/s eta 0:00:01\r\u001b[K     |███████████████████▉            | 256 kB 5.1 MB/s eta 0:00:01\r\u001b[K     |████████████████████▋           | 266 kB 5.1 MB/s eta 0:00:01\r\u001b[K     |█████████████████████▌          | 276 kB 5.1 MB/s eta 0:00:01\r\u001b[K     |██████████████████████▎         | 286 kB 5.1 MB/s eta 0:00:01\r\u001b[K     |███████████████████████         | 296 kB 5.1 MB/s eta 0:00:01\r\u001b[K     |███████████████████████▉        | 307 kB 5.1 MB/s eta 0:00:01\r\u001b[K     |████████████████████████▋       | 317 kB 5.1 MB/s eta 0:00:01\r\u001b[K     |█████████████████████████▍      | 327 kB 5.1 MB/s eta 0:00:01\r\u001b[K     |██████████████████████████▏     | 337 kB 5.1 MB/s eta 0:00:01\r\u001b[K     |███████████████████████████     | 348 kB 5.1 MB/s eta 0:00:01\r\u001b[K     |███████████████████████████▉    | 358 kB 5.1 MB/s eta 0:00:01\r\u001b[K     |████████████████████████████▋   | 368 kB 5.1 MB/s eta 0:00:01\r\u001b[K     |█████████████████████████████▍  | 378 kB 5.1 MB/s eta 0:00:01\r\u001b[K     |██████████████████████████████▏ | 389 kB 5.1 MB/s eta 0:00:01\r\u001b[K     |███████████████████████████████ | 399 kB 5.1 MB/s eta 0:00:01\r\u001b[K     |███████████████████████████████▉| 409 kB 5.1 MB/s eta 0:00:01\r\u001b[K     |████████████████████████████████| 412 kB 5.1 MB/s \n",
            "\u001b[?25h  Installing build dependencies ... \u001b[?25l\u001b[?25hdone\n",
            "  Getting requirements to build wheel ... \u001b[?25l\u001b[?25hdone\n",
            "    Preparing wheel metadata ... \u001b[?25l\u001b[?25hdone\n",
            "Requirement already satisfied: python-dateutil>=2.5.3 in /usr/local/lib/python3.7/dist-packages (from ibm-watson) (2.8.2)\n",
            "Collecting ibm-cloud-sdk-core==3.*,>=3.3.6\n",
            "  Downloading ibm-cloud-sdk-core-3.13.2.tar.gz (49 kB)\n",
            "\u001b[K     |████████████████████████████████| 49 kB 5.4 MB/s \n",
            "\u001b[?25hCollecting websocket-client==1.1.0\n",
            "  Downloading websocket_client-1.1.0-py2.py3-none-any.whl (68 kB)\n",
            "\u001b[K     |████████████████████████████████| 68 kB 5.8 MB/s \n",
            "\u001b[?25hRequirement already satisfied: requests<3.0,>=2.0 in /usr/local/lib/python3.7/dist-packages (from ibm-watson) (2.23.0)\n",
            "Collecting requests<3.0,>=2.0\n",
            "  Downloading requests-2.26.0-py2.py3-none-any.whl (62 kB)\n",
            "\u001b[K     |████████████████████████████████| 62 kB 766 kB/s \n",
            "\u001b[?25hCollecting urllib3<2.0.0,>=1.26.0\n",
            "  Downloading urllib3-1.26.7-py2.py3-none-any.whl (138 kB)\n",
            "\u001b[K     |████████████████████████████████| 138 kB 47.8 MB/s \n",
            "\u001b[?25hCollecting PyJWT<3.0.0,>=2.0.1\n",
            "  Downloading PyJWT-2.3.0-py3-none-any.whl (16 kB)\n",
            "Requirement already satisfied: six>=1.5 in /usr/local/lib/python3.7/dist-packages (from python-dateutil>=2.5.3->ibm-watson) (1.15.0)\n",
            "Requirement already satisfied: idna<4,>=2.5 in /usr/local/lib/python3.7/dist-packages (from requests<3.0,>=2.0->ibm-watson) (2.10)\n",
            "Requirement already satisfied: charset-normalizer~=2.0.0 in /usr/local/lib/python3.7/dist-packages (from requests<3.0,>=2.0->ibm-watson) (2.0.7)\n",
            "Requirement already satisfied: certifi>=2017.4.17 in /usr/local/lib/python3.7/dist-packages (from requests<3.0,>=2.0->ibm-watson) (2021.10.8)\n",
            "Building wheels for collected packages: ibm-watson, ibm-cloud-sdk-core\n",
            "  Building wheel for ibm-watson (PEP 517) ... \u001b[?25l\u001b[?25hdone\n",
            "  Created wheel for ibm-watson: filename=ibm_watson-5.3.0-py3-none-any.whl size=408872 sha256=9c990bda433634fe123e3eccf5173abe8be9f7938eab72cc91a024314d7d5932\n",
            "  Stored in directory: /root/.cache/pip/wheels/21/d9/82/4ce5b94730bc4f1f7b4c6384f72964b9b8f79fcc125bb8085c\n",
            "  Building wheel for ibm-cloud-sdk-core (setup.py) ... \u001b[?25l\u001b[?25hdone\n",
            "  Created wheel for ibm-cloud-sdk-core: filename=ibm_cloud_sdk_core-3.13.2-py3-none-any.whl size=83241 sha256=d4d70cf09c474d075d08d8d5178421c1856584c34110822c332b372896f8d64d\n",
            "  Stored in directory: /root/.cache/pip/wheels/f0/0d/5c/0c26fcc2db712e8d270e52f7c9f6d8abe33ca79ec29438aa14\n",
            "Successfully built ibm-watson ibm-cloud-sdk-core\n",
            "Installing collected packages: urllib3, requests, PyJWT, websocket-client, ibm-cloud-sdk-core, ibm-watson\n",
            "  Attempting uninstall: urllib3\n",
            "    Found existing installation: urllib3 1.24.3\n",
            "    Uninstalling urllib3-1.24.3:\n",
            "      Successfully uninstalled urllib3-1.24.3\n",
            "  Attempting uninstall: requests\n",
            "    Found existing installation: requests 2.23.0\n",
            "    Uninstalling requests-2.23.0:\n",
            "      Successfully uninstalled requests-2.23.0\n",
            "\u001b[31mERROR: pip's dependency resolver does not currently take into account all the packages that are installed. This behaviour is the source of the following dependency conflicts.\n",
            "google-colab 1.0.0 requires requests~=2.23.0, but you have requests 2.26.0 which is incompatible.\n",
            "datascience 0.10.6 requires folium==0.2.1, but you have folium 0.8.3 which is incompatible.\u001b[0m\n",
            "Successfully installed PyJWT-2.3.0 ibm-cloud-sdk-core-3.13.2 ibm-watson-5.3.0 requests-2.26.0 urllib3-1.26.7 websocket-client-1.1.0\n"
          ]
        }
      ]
    },
    {
      "cell_type": "code",
      "metadata": {
        "id": "Rr7ONE-VOzNN"
      },
      "source": [
        "from ibm_watson import TextToSpeechV1"
      ],
      "execution_count": 6,
      "outputs": []
    },
    {
      "cell_type": "code",
      "metadata": {
        "id": "1vkAMVZaPZix"
      },
      "source": [
        "from ibm_cloud_sdk_core.authenticators import IAMAuthenticator"
      ],
      "execution_count": 7,
      "outputs": []
    },
    {
      "cell_type": "code",
      "metadata": {
        "id": "geTMBaxuPl_0"
      },
      "source": [
        "apikey = 'OY1n0ivdv2JIp2yc2ny1ZU9AtSvtgWp7Tdqdq-h7HkvW'"
      ],
      "execution_count": 8,
      "outputs": []
    },
    {
      "cell_type": "code",
      "metadata": {
        "id": "kCXTXh5jkB55"
      },
      "source": [
        "url =\"https://api.kr-seo.text-to-speech.watson.cloud.ibm.com/instances/8c58065c-9c67-4ac7-8c83-494759a116bf\""
      ],
      "execution_count": 9,
      "outputs": []
    },
    {
      "cell_type": "code",
      "metadata": {
        "id": "GsKrd6lmkI1S"
      },
      "source": [
        "authenticator = IAMAuthenticator(apikey)\n",
        "tts = TextToSpeechV1(authenticator = authenticator)\n",
        "tts.set_service_url(url)"
      ],
      "execution_count": 10,
      "outputs": []
    },
    {
      "cell_type": "code",
      "metadata": {
        "id": "3VW7SgEjs7Dc"
      },
      "source": [
        "with open('/content/Intro.txt','r') as f:\n",
        "  text = f.readlines()\n",
        "  text=[line.replace('\\n',\" \") for line in text]\n",
        "  text = ''.join(str(line) for line in text)"
      ],
      "execution_count": 21,
      "outputs": []
    },
    {
      "cell_type": "code",
      "metadata": {
        "id": "1Sh82FJevSVx"
      },
      "source": [
        "with open('./sample.mp3','wb') as audio_file:\n",
        "  res = tts.synthesize(text,accept ='audio/mp3',voice ='en-GB_KateV3Voice').get_result()\n",
        "  audio_file.write(res.content)"
      ],
      "execution_count": 22,
      "outputs": []
    },
    {
      "cell_type": "code",
      "metadata": {
        "id": "Bt3644Rhv8Ra"
      },
      "source": [
        ""
      ],
      "execution_count": null,
      "outputs": []
    }
  ]
}